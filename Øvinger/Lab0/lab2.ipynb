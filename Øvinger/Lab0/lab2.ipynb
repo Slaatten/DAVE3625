{
 "cells": [
  {
   "cell_type": "code",
   "execution_count": null,
   "id": "a667bdc2",
   "metadata": {},
   "outputs": [],
   "source": [
    "%matplotlib inline\n",
    "import pandas as pd\n",
    "import numpy as np\n",
    "from scipy import stats\n",
    "import matplotlib.pyplot as plt\n",
    "\n",
    "url = \"https://raw.githubusercontent.com/DAVE3625/Dave3625-Host-2025/main/Lab2/data/stud.csv\"\n",
    "df = pd.read_csv(url, sep=',')\n",
    "df = df.replace(r'^\\s*$', np.nan, regex=True)\n",
    "df.isna().sum()\n",
    "df[\"Age\"] = df[\"Age\"].replace(np.nan, 0)\n",
    "df.isna().sum()\n",
    "df.dropna(inplace = True)\n",
    "df.isna().sum()\n",
    "df['Age'] = df['Age'].astype(str).astype(int)\n",
    "df['hrsStudy'] = df['hrsStudy'].astype(str).astype(int)\n",
    "# df.info()\n",
    "# df.describe()\n",
    "# df[\"FinalGrade\"].plot.line()\n",
    "z_scores = stats.zscore(df[\"FinalGrade\"])\n",
    "abs_z_scores = np.abs(z_scores)\n",
    "df.drop(df[abs_z_scores > 3].index, inplace=True)\n",
    "# df[\"FinalGrade\"].plot.box()\n",
    "df = df.reset_index(drop=True)\n",
    "# df.tail(5)\n",
    "\n",
    "conditions = [\n",
    "    (df['FinalGrade'] <= 50.0),\n",
    "    (df['FinalGrade'] > 50.0) & (df['FinalGrade'] <= 60.0),\n",
    "    (df['FinalGrade'] > 60.0) & (df['FinalGrade'] <= 70.0),\n",
    "    (df['FinalGrade'] > 70.0) & (df['FinalGrade'] <= 80.0),\n",
    "    (df['FinalGrade'] > 80.0) & (df['FinalGrade'] <= 90.0),\n",
    "    (df['FinalGrade'] > 90.0)\n",
    "    ]\n",
    "\n",
    "values = ['F', 'E', 'D', 'C', 'B', 'A']\n",
    "df['Grade'] = np.select(conditions, values, default='F')\n",
    "# df.head()\n",
    "df_gradeCount = df.groupby('Grade').count()\n",
    "df_gradeCount.FinalGrade\n",
    "df_gradeCount[\"FinalGrade\"].plot.bar()\n",
    "\n"
   ]
  }
 ],
 "metadata": {
  "kernelspec": {
   "display_name": "Lab0",
   "language": "python",
   "name": "python3"
  },
  "language_info": {
   "codemirror_mode": {
    "name": "ipython",
    "version": 3
   },
   "file_extension": ".py",
   "mimetype": "text/x-python",
   "name": "python",
   "nbconvert_exporter": "python",
   "pygments_lexer": "ipython3",
   "version": "3.13.7"
  }
 },
 "nbformat": 4,
 "nbformat_minor": 5
}
