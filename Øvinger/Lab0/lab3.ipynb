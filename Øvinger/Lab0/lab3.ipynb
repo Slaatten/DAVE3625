{
 "cells": [
  {
   "cell_type": "code",
   "execution_count": 13,
   "id": "826ad1b2",
   "metadata": {},
   "outputs": [
    {
     "data": {
      "text/plain": [
       "Cabin          1014\n",
       "Survived        418\n",
       "Pclass            0\n",
       "PassengerId       0\n",
       "Name              0\n",
       "Sex               0\n",
       "SibSp             0\n",
       "Age               0\n",
       "Parch             0\n",
       "Ticket            0\n",
       "Fare              0\n",
       "Embarked          0\n",
       "dtype: int64"
      ]
     },
     "execution_count": 13,
     "metadata": {},
     "output_type": "execute_result"
    }
   ],
   "source": [
    "%matplotlib inline\n",
    "import pandas as pd\n",
    "import numpy as np\n",
    "import matplotlib.pyplot as plt\n",
    "import seaborn as sns\n",
    "import re\n",
    "\n",
    "url = \"https://raw.githubusercontent.com/DAVE3625/Dave3625-Host-2025/main/Lab3/data/Titanic.csv\"\n",
    "df = pd.read_csv(url, sep=',')\n",
    "# df.info()\n",
    "df['Age']      = df['Age'].fillna(df['Age'].median())\n",
    "df['Fare']     = df['Fare'].fillna(df['Fare'].median())\n",
    "df['Embarked'] = df['Embarked'].fillna('S')\n",
    "df.isna().sum().sort_values(ascending=False)\n"
   ]
  }
 ],
 "metadata": {
  "kernelspec": {
   "display_name": "Lab0",
   "language": "python",
   "name": "python3"
  },
  "language_info": {
   "codemirror_mode": {
    "name": "ipython",
    "version": 3
   },
   "file_extension": ".py",
   "mimetype": "text/x-python",
   "name": "python",
   "nbconvert_exporter": "python",
   "pygments_lexer": "ipython3",
   "version": "3.13.7"
  }
 },
 "nbformat": 4,
 "nbformat_minor": 5
}
