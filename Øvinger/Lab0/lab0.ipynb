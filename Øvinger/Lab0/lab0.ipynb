{
 "cells": [
  {
   "cell_type": "markdown",
   "id": "fc9e9e6e",
   "metadata": {},
   "source": [
    "## Lab 0 – Python Basics\n",
    "This notebook contains simple Python exercises."
   ]
  },
  {
   "cell_type": "markdown",
   "id": "02c1401b",
   "metadata": {},
   "source": [
    "### Task 1 - Hello world"
   ]
  },
  {
   "cell_type": "code",
   "execution_count": null,
   "id": "9871d8ba",
   "metadata": {},
   "outputs": [],
   "source": [
    "print(\"Hello world!\")"
   ]
  },
  {
   "cell_type": "markdown",
   "id": "d300e984",
   "metadata": {},
   "source": [
    "### Task 2 - Basic arithmetic"
   ]
  },
  {
   "cell_type": "code",
   "execution_count": null,
   "id": "582afed4",
   "metadata": {},
   "outputs": [],
   "source": [
    "addition = 2 + 2\n",
    "subtraction = 3 - 2\n",
    "division = 10 / 2\n",
    "print(f\"{addition}, {subtraction}, {division}\")"
   ]
  },
  {
   "cell_type": "markdown",
   "id": "eecb7b90",
   "metadata": {},
   "source": [
    "### Task 3 - Variables"
   ]
  },
  {
   "cell_type": "code",
   "execution_count": null,
   "id": "164a39fa",
   "metadata": {},
   "outputs": [],
   "source": [
    "name = \"Stian\"\n",
    "age = 25\n",
    "print(f\"My name is {name} and my age is {age}\")"
   ]
  },
  {
   "cell_type": "markdown",
   "id": "8d756e6a",
   "metadata": {},
   "source": [
    "### Task 4 - Simple loops"
   ]
  },
  {
   "cell_type": "code",
   "execution_count": null,
   "id": "ac9e0e76",
   "metadata": {},
   "outputs": [],
   "source": [
    "for i in range(10):\n",
    "    print(f\"Text {i}\")"
   ]
  },
  {
   "cell_type": "markdown",
   "id": "cd9d7b3c",
   "metadata": {},
   "source": [
    "### Task 5 - Conditional Statements "
   ]
  },
  {
   "cell_type": "code",
   "execution_count": null,
   "id": "dcadffbc",
   "metadata": {},
   "outputs": [],
   "source": [
    "number = int(input(\"Write a integer: \"))\n",
    "if number > 5:\n",
    "    print(\n",
    "        f\"The number you wrote is greater than 5. The number you wrote {number}\")\n",
    "else:\n",
    "    print(f\"The number you wrote was less than 5\")"
   ]
  },
  {
   "cell_type": "markdown",
   "id": "a671453e",
   "metadata": {},
   "source": [
    "### Task 6 - Match-Case Statements"
   ]
  },
  {
   "cell_type": "code",
   "execution_count": null,
   "id": "a67cbea3",
   "metadata": {},
   "outputs": [],
   "source": [
    "day = input(\"Write the name of a weekday: \").lower()\n",
    "\n",
    "match day:\n",
    "    case \"monday\":\n",
    "        print(\"It is monday!\")\n",
    "    case \"tuesday\":\n",
    "        print(\"It is tuesday!\")\n",
    "    case \"wednesday\":\n",
    "        print(\"It is wednesday!\")\n",
    "    case \"thursday\":\n",
    "        print(\"It is thursday!\")\n",
    "    case \"friday\":\n",
    "        print(\"It is friday!\")\n",
    "    case \"saturday\":\n",
    "        print(\"It is saturday!\")\n",
    "    case \"sunday\":\n",
    "        print(\"It is sunday!\")\n",
    "    case _:\n",
    "        print(\"Unknown command\")"
   ]
  }
 ],
 "metadata": {
  "kernelspec": {
   "display_name": "Lab0",
   "language": "python",
   "name": "python3"
  },
  "language_info": {
   "codemirror_mode": {
    "name": "ipython",
    "version": 3
   },
   "file_extension": ".py",
   "mimetype": "text/x-python",
   "name": "python",
   "nbconvert_exporter": "python",
   "pygments_lexer": "ipython3",
   "version": "3.13.7"
  }
 },
 "nbformat": 4,
 "nbformat_minor": 5
}
